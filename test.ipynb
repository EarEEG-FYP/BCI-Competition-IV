{
 "cells": [
  {
   "cell_type": "code",
   "execution_count": 11,
   "metadata": {},
   "outputs": [
    {
     "name": "stdout",
     "output_type": "stream",
     "text": [
      "Mean along axis 0 (columns): [[ 1.  2.  3.]\n",
      " [ 4.  5.  6.]\n",
      " [ 7.  8.  9.]\n",
      " [10. 11. 12.]]\n",
      "Mean along axis 1 (rows): [[5.5 6.5 7.5]\n",
      " [5.5 6.5 7.5]]\n",
      "Mean along axis 2 (rows): [[ 2.  5.  8. 11.]\n",
      " [ 2.  5.  8. 11.]]\n"
     ]
    }
   ],
   "source": [
    "import numpy as np\n",
    "\n",
    "# Example ndarray\n",
    "my_array = np.array([[[1, 2, 3],\n",
    "                     [4, 5, 6],\n",
    "                     [7, 8, 9],\n",
    "                     [10, 11, 12]],\n",
    "                     [[1, 2, 3],\n",
    "                     [4, 5, 6],\n",
    "                     [7, 8, 9],\n",
    "                     [10, 11, 12]]])\n",
    "\n",
    "# Compute mean along axis 0 (columns)\n",
    "mean_along_axis_0 = np.mean(my_array, axis=0)\n",
    "\n",
    "# Compute mean along axis 1 (rows)\n",
    "mean_along_axis_1 = np.mean(my_array, axis=1)\n",
    "\n",
    "mean_along_axis_2 = np.mean(my_array, axis=2)\n",
    "\n",
    "print(\"Mean along axis 0 (columns):\", mean_along_axis_0)\n",
    "print(\"Mean along axis 1 (rows):\", mean_along_axis_1)\n",
    "print(\"Mean along axis 2 (rows):\", mean_along_axis_2)"
   ]
  },
  {
   "cell_type": "code",
   "execution_count": 10,
   "metadata": {},
   "outputs": [
    {
     "data": {
      "text/plain": [
       "(2, 4, 3)"
      ]
     },
     "execution_count": 10,
     "metadata": {},
     "output_type": "execute_result"
    }
   ],
   "source": [
    "my_array.shape"
   ]
  }
 ],
 "metadata": {
  "kernelspec": {
   "display_name": "Python 3.9 (pytorch)",
   "language": "python",
   "name": "pytorch"
  },
  "language_info": {
   "codemirror_mode": {
    "name": "ipython",
    "version": 3
   },
   "file_extension": ".py",
   "mimetype": "text/x-python",
   "name": "python",
   "nbconvert_exporter": "python",
   "pygments_lexer": "ipython3",
   "version": "3.9.15"
  }
 },
 "nbformat": 4,
 "nbformat_minor": 2
}
