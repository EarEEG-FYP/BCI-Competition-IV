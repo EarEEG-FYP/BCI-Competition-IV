{
  "cells": [
    {
      "cell_type": "markdown",
      "metadata": {
        "id": "hDCSvikB8ZVm"
      },
      "source": [
        "# main_csp.py"
      ]
    },
    {
      "cell_type": "code",
      "execution_count": 1,
      "metadata": {
        "id": "rqsyO3FF6fr6"
      },
      "outputs": [],
      "source": [
        "import numpy as np\n",
        "import time\n",
        "from sklearn.svm import LinearSVC, SVC\n",
        "from sklearn.model_selection import KFold"
      ]
    },
    {
      "cell_type": "markdown",
      "metadata": {
        "id": "t5ML1OhL6n_7"
      },
      "source": [
        "# csp.py"
      ]
    },
    {
      "cell_type": "code",
      "execution_count": 2,
      "metadata": {
        "id": "wBkqcq0I6qME"
      },
      "outputs": [],
      "source": [
        "from scipy.special import binom\n",
        "import pyriemann.utils.mean as rie_mean"
      ]
    },
    {
      "cell_type": "markdown",
      "metadata": {
        "id": "Vnup0ZUp7Fr-"
      },
      "source": [
        "# csp.py ----> filters.py"
      ]
    },
    {
      "cell_type": "code",
      "execution_count": 3,
      "metadata": {
        "id": "-wL8F0aZ7Kw9"
      },
      "outputs": [],
      "source": [
        "from scipy import signal\n",
        "from scipy.signal import butter, sosfilt, sosfreqz"
      ]
    },
    {
      "cell_type": "code",
      "execution_count": 4,
      "metadata": {
        "id": "Q5bU_vNI7TKt"
      },
      "outputs": [],
      "source": [
        "def load_bands(bandwidth,f_s,max_freq = 40):\n",
        "\t'''\tFilter N channels with fir filter of order 101\n",
        "\n",
        "\tKeyword arguments:\n",
        "\tbandwith -- numpy array containing bandwiths ex. [2,4,8,16,32]\n",
        "\tf_s -- sampling frequency\n",
        "\n",
        "\tReturn:\tnumpy array of normalized frequency bands\n",
        "\t'''\n",
        "\tf_bands = np.zeros((99,2)).astype(float)\n",
        "\n",
        "\tband_counter = 0\n",
        "\tfor bw in bandwidth:\n",
        "\t\tstartfreq = 4\n",
        "\t\twhile (startfreq + bw <= max_freq):\n",
        "\t\t\tf_bands[band_counter] = [startfreq, startfreq + bw]\n",
        "\n",
        "\t\t\tif bw ==1: # do 1Hz steps\n",
        "\t\t\t\tstartfreq = startfreq +1\n",
        "\t\t\telif bw == 2: # do 2Hz steps\n",
        "\t\t\t\tstartfreq = startfreq +2\n",
        "\t\t\telse : # do 4 Hz steps if Bandwidths >= 4Hz\n",
        "\t\t\t\tstartfreq = startfreq +4\n",
        "\n",
        "\t\t\tband_counter += 1\n",
        "\n",
        "\t# convert array to normalized frequency\n",
        "\tf_bands_nom = 2*f_bands[:band_counter]/f_s\n",
        "\treturn f_bands_nom"
      ]
    },
    {
      "cell_type": "code",
      "execution_count": 5,
      "metadata": {
        "id": "kLHWHZX27Zq4"
      },
      "outputs": [],
      "source": [
        "def load_filterbank(bandwidth,fs, order = 4, max_freq = 40,ftype = 'butter'):\n",
        "\t'''\tCalculate Filters bank with Butterworth filter\n",
        "\n",
        "\tKeyword arguments:\n",
        "\tbandwith -- numpy array containing bandwiths ex. [2,4,8,16,32]\n",
        "\tf_s -- sampling frequency\n",
        "\n",
        "\tReturn:\tnumpy array containing filters coefficients dimesnions 'butter': [N_bands,order,6] 'fir': [N_bands,order]\n",
        "\t'''\n",
        "\n",
        "\tf_band_nom = load_bands(bandwidth,fs,max_freq) # get normalized bands\n",
        "\tn_bands = f_band_nom.shape[0]\n",
        "\n",
        "\tif ftype == 'butter':\n",
        "\t\tfilter_bank = np.zeros((n_bands,order,6))\n",
        "\telif ftype == 'fir':\n",
        "\t\tfilter_bank = np.zeros((n_bands,order))\n",
        "\n",
        "\n",
        "\n",
        "\tfor band_idx in range(n_bands):\n",
        "\t\tif ftype == 'butter':\n",
        "\t\t\tfilter_bank[band_idx] = butter(order, f_band_nom[band_idx], analog=False, btype='band', output='sos')\n",
        "\t\telif ftype == 'fir':\n",
        "\n",
        "\n",
        "\t\t\tfilter_bank[band_idx] = signal.firwin(order,f_band_nom[band_idx],pass_zero=False)\n",
        "\treturn filter_bank\n"
      ]
    },
    {
      "cell_type": "code",
      "execution_count": 6,
      "metadata": {
        "id": "pYYhu6aJ7a37"
      },
      "outputs": [],
      "source": [
        "def butter_fir_filter(signal_in,filter_coeff):\n",
        "\n",
        "\tif filter_coeff.ndim == 2: # butter worth\n",
        "\t\treturn sosfilt(filter_coeff, signal_in)\n",
        "\telif filter_coeff.ndim ==1: # fir filter\n",
        "\n",
        "\t\tNO_channels ,NO_samples = signal_in.shape\n",
        "\t\tsig_filt = np.zeros((NO_channels ,NO_samples))\n",
        "\n",
        "\t\tfor channel in range(0,NO_channels):\n",
        "\t\t\tsig_filt[channel] = signal.convolve(signal_in[channel,:],filter_coeff,mode='same') # signal has same size as signal_in (centered)\n",
        "\n",
        "\t\treturn sig_filt"
      ]
    },
    {
      "cell_type": "markdown",
      "metadata": {
        "id": "P6fxDmhy728S"
      },
      "source": [
        "# csp.py ----> eig.py"
      ]
    },
    {
      "cell_type": "code",
      "execution_count": 7,
      "metadata": {
        "id": "Uijzfk9U75I7"
      },
      "outputs": [],
      "source": [
        "from scipy import linalg"
      ]
    },
    {
      "cell_type": "code",
      "execution_count": 8,
      "metadata": {
        "id": "q1FKmtDO78V2"
      },
      "outputs": [],
      "source": [
        "def gevd(x1,x2,no_pairs):\n",
        "\t'''Solve generalized eigenvalue decomposition\n",
        "\n",
        "\tKeyword arguments:\n",
        "\tx1 -- numpy array of size [NO_channels, NO_samples]\n",
        "\tx2 -- numpy array of size [NO_channels, NO_samples]\n",
        "\tno_pairs -- number of pairs of eigenvectors to be returned\n",
        "\n",
        "\tReturn:\tnumpy array of 2*No_pairs eigenvectors\n",
        "\t'''\n",
        "\tev,vr= linalg.eig(x1,x2,right=True)\n",
        "\tevAbs = np.abs(ev)\n",
        "\tsort_indices = np.argsort(evAbs)\n",
        "\tchosen_indices = np.zeros(2*no_pairs).astype(int)\n",
        "\tchosen_indices[0:no_pairs] = sort_indices[0:no_pairs]\n",
        "\tchosen_indices[no_pairs:2*no_pairs] = sort_indices[-no_pairs:]\n",
        "\n",
        "\tw = vr[:,chosen_indices] # ignore nan entries\n",
        "\treturn w"
      ]
    },
    {
      "cell_type": "markdown",
      "metadata": {
        "id": "LqWiIvMS8Bs3"
      },
      "source": [
        "# csp.py"
      ]
    },
    {
      "cell_type": "code",
      "execution_count": 9,
      "metadata": {
        "id": "sJsNYgBj8GBK"
      },
      "outputs": [],
      "source": [
        "def csp_one_one(cov_matrix,NO_csp,NO_classes):\n",
        "\t'''\n",
        "\tcalculate spatial filter for class all pairs of classes\n",
        "\n",
        "\tKeyword arguments:\n",
        "\tcov_matrix -- numpy array of size [NO_channels, NO_channels]\n",
        "\tNO_csp -- number of spatial filters (24)\n",
        "\n",
        "\tReturn:\tspatial filter numpy array of size [22,NO_csp]\n",
        "\t'''\n",
        "\tN, _ = cov_matrix[0].shape\n",
        "\tn_comb = binom(NO_classes,2)\n",
        "\n",
        "\tNO_filtpairs = int(NO_csp/(n_comb*2))\n",
        "\n",
        "\tw = np.zeros((N,NO_csp))\n",
        "\n",
        "\tkk = 0 # internal counter\n",
        "\tfor cc1 in range(0,NO_classes):\n",
        "\t\tfor cc2 in range(cc1+1,NO_classes):\n",
        "\t\t\tw[:,NO_filtpairs*2*(kk):NO_filtpairs*2*(kk+1)] = gevd(cov_matrix[cc1], cov_matrix[cc2],NO_filtpairs)\n",
        "\t\t\tkk +=1\n",
        "\treturn w"
      ]
    },
    {
      "cell_type": "code",
      "execution_count": 10,
      "metadata": {
        "id": "SthlQxNe8KLS"
      },
      "outputs": [],
      "source": [
        "def generate_projection(data,class_vec,NO_csp,filter_bank,time_windows,NO_classes=4):\n",
        "\t'''\tgenerate spatial filters for every timewindow and frequancy band\n",
        "\n",
        "\tKeyword arguments:\n",
        "\tdata -- numpy array of size [NO_trials,channels,time_samples]\n",
        "\tclass_vec -- containing the class labels, numpy array of size [NO_trials]\n",
        "\tNO_csp -- number of spatial filters (24)\n",
        "\tfilter_bank -- numpy array containing butter sos filter coeffitions dim  [NO_bands,order,6]\n",
        "\ttime_windows -- numpy array [[start_time1,end_time1],...,[start_timeN,end_timeN]]\n",
        "\n",
        "\tReturn:\tspatial filter numpy array of size [NO_timewindows,NO_freqbands,22,NO_csp]\n",
        "\t'''\n",
        "\ttime_windows = time_windows.reshape((-1,2))\n",
        "\tNO_bands = filter_bank.shape[0]\n",
        "\tNO_time_windows = len(time_windows[:,0])\n",
        "\tNO_channels = len(data[0,:,0])\n",
        "\tNO_trials = class_vec.size\n",
        "\n",
        "\t# Initialize spatial filter:\n",
        "\tw = np.zeros((NO_time_windows,NO_bands,NO_channels,NO_csp))\n",
        "\n",
        "\t# iterate through all time windows\n",
        "\tfor t_wind in range(0,NO_time_windows):\n",
        "\t\t# get start and end point of current time window\n",
        "\t\tt_start = time_windows[t_wind,0]\n",
        "\t\tt_end = time_windows[t_wind,1]\n",
        "\n",
        "\t\t# iterate through all frequency bandwids\n",
        "\t\tfor subband in range(0,NO_bands):\n",
        "\n",
        "\t\t\tcov = np.zeros((NO_classes,NO_trials, NO_channels,NO_channels)) # sum of covariance depending on the class\n",
        "\t\t\tcov_avg = np.zeros((NO_classes,NO_channels,NO_channels))\n",
        "\t\t\tcov_cntr = np.zeros(NO_classes).astype(int) # counter of class occurence\n",
        "\n",
        "\t\t\t#go through all trials and estimate covariance matrix of every class\n",
        "\t\t\tfor trial in range(0,NO_trials):\n",
        "\t\t\t\t#frequency band of every channel\n",
        "\t\t\t\tdata_filter = butter_fir_filter(data[trial,:,t_start:t_end], filter_bank[subband])\n",
        "\t\t\t\tcur_class_idx = int(class_vec[trial]-1)\n",
        "\n",
        "\t\t\t\t# caclulate current covariance matrix\n",
        "\t\t\t\tcov[cur_class_idx,cov_cntr[cur_class_idx],:,:] = np.dot(data_filter,np.transpose(data_filter))\n",
        "\n",
        "\t\t\t\t# update covariance matrix and class counter\n",
        "\t\t\t\tcov_cntr[cur_class_idx] += 1\n",
        "\n",
        "\t\t\t# calculate average of covariance matrix\n",
        "\t\t\tfor clas in range(0,NO_classes):\n",
        "\t\t\t\tcov_avg[clas,:,:] = rie_mean.mean_covariance(cov[clas,:cov_cntr[clas],:,:], metric = 'euclid')\n",
        "\t\t\tw[t_wind,subband,:,:] = csp_one_one(cov_avg,NO_csp,NO_classes)\n",
        "\treturn w"
      ]
    },
    {
      "cell_type": "code",
      "execution_count": 11,
      "metadata": {
        "id": "cgY4hrBo8NtW"
      },
      "outputs": [],
      "source": [
        "def generate_eye(data,class_vec,filter_bank,time_windows):\n",
        "\t'''\tgenerate unity spatial filters for every timewindow and frequancy band\n",
        "\n",
        "\tKeyword arguments:\n",
        "\tdata -- numpy array of size [NO_trials,channels,time_samples]\n",
        "\tclass_vec -- containing the class labels, numpy array of size [NO_trials]\n",
        "\tfilter_bank -- numpy array containing butter sos filter coeffitions dim  [NO_bands,order,6]\n",
        "\ttime_windows -- numpy array [[start_time1,end_time1],...,[start_timeN,end_timeN]]\n",
        "\n",
        "\tReturn:\tspatial unity filter numpy array of size [NO_timewindows,NO_freqbands,22,NO_csp]\n",
        "\t'''\n",
        "\ttime_windows = time_windows.reshape((-1,2))\n",
        "\tNO_bands = filter_bank.shape[0]\n",
        "\tNO_time_windows = len(time_windows[:,0])\n",
        "\tNO_channels = len(data[0,:,0])\n",
        "\tNO_trials = class_vec.size\n",
        "\n",
        "\t# Initialize spatial filter:\n",
        "\tw = np.zeros((NO_time_windows,NO_bands,NO_channels,NO_channels))\n",
        "\tfor t_wind in range(NO_time_windows):\n",
        "\t\tfor band in range(NO_bands):\n",
        "\t\t\tw[t_wind,band] = np.eye(NO_channels)\n",
        "\treturn w"
      ]
    },
    {
      "cell_type": "code",
      "execution_count": 12,
      "metadata": {
        "id": "N3FJQHpC8Rfy"
      },
      "outputs": [],
      "source": [
        "def extract_feature(data,w,filter_bank,time_windows):\n",
        "\t'''\tcalculate features using the precalculated spatial filters\n",
        "\n",
        "\tKeyword arguments:\n",
        "\tdata -- numpy array of size [NO_trials,channels,time_samples]\n",
        "\tw -- spatial filters, numpy array of size [NO_timewindows,NO_freqbands,22,NO_csp]\n",
        "\tfilter_bank -- numpy array containing butter sos filter coeffitions dim  [NO_bands,order,6]\n",
        "\ttime_windows -- numpy array [[start_time1,end_time1],...,[start_timeN,end_timeN]]\n",
        "\n",
        "\tReturn:\tfeatures, numpy array of size [NO_trials,(NO_csp*NO_bands*NO_time_windows)]\n",
        "\t'''\n",
        "\tNO_csp = len(w[0,0,0,:])\n",
        "\ttime_windows = time_windows.reshape((-1,2))\n",
        "\tNO_time_windows = int(time_windows.size/2)\n",
        "\tNO_bands = filter_bank.shape[0]\n",
        "\tNO_trials = len(data[:,0,0])\n",
        "\tNO_features = NO_csp*NO_bands*NO_time_windows\n",
        "\n",
        "\tfeature_mat = np.zeros((NO_trials, NO_time_windows,NO_bands,NO_csp))\n",
        "\n",
        "\t# initialize feature vector\n",
        "\tfeat = np.zeros((NO_time_windows,NO_bands,NO_csp))\n",
        "\n",
        "\t# go through all trials\n",
        "\tfor trial in range(0,NO_trials):\n",
        "\n",
        "\t\t# iterate through all time windows\n",
        "\t\tfor t_wind in range(0,NO_time_windows):\n",
        "\t\t\t# get start and end point of current time window\n",
        "\t\t\tt_start = time_windows[t_wind,0]\n",
        "\t\t\tt_end = time_windows[t_wind,1]\n",
        "\n",
        "\t\t\tfor subband in range(0,NO_bands):\n",
        "\t\t\t\t#Apply spatial Filter to data\n",
        "\t\t\t\tcur_data_s = np.dot(np.transpose(w[t_wind,subband]),data[trial,:,t_start:t_end])\n",
        "\n",
        "\t\t\t\t#frequency filtering\n",
        "\t\t\t\tcur_data_f_s = butter_fir_filter(cur_data_s,filter_bank[subband])\n",
        "\n",
        "\t\t\t\t# calculate variance of all channels\n",
        "\t\t\t\tfeat[t_wind,subband] = np.var(cur_data_f_s,axis=1)\n",
        "\n",
        "\t\t\t# calculate log10 of normalized feature vector\n",
        "\n",
        "\n",
        "\t\tfor subband in range(0,NO_bands):\n",
        "\t\t\tfeat[:,subband] = np.log10(feat[:,subband])#/np.sum(feat[:,subband]))\n",
        "\n",
        "\t\t# store feature in list\n",
        "\t\tfeature_mat[trial,:,:,:] = feat\n",
        "\treturn np.reshape(feature_mat,(NO_trials,-1)) #"
      ]
    },
    {
      "cell_type": "markdown",
      "metadata": {
        "id": "qHhPm9UQ5PY4"
      },
      "source": [
        "#main_csp.py ---> get_data.py"
      ]
    },
    {
      "cell_type": "code",
      "execution_count": 13,
      "metadata": {
        "id": "564YFXgr5f_W"
      },
      "outputs": [],
      "source": [
        "import scipy.io as sio"
      ]
    },
    {
      "cell_type": "code",
      "execution_count": 14,
      "metadata": {
        "id": "FV55O_bI9ClN"
      },
      "outputs": [],
      "source": [
        "def get_data(subject,training,PATH):\n",
        "\t'''\tLoads the dataset 2a of the BCI Competition IV\n",
        "\tavailable on http://bnci-horizon-2020.eu/database/data-sets\n",
        "\n",
        "\tKeyword arguments:\n",
        "\tsubject -- number of subject in [1, .. ,9]\n",
        "\ttraining -- if True, load training data\n",
        "\t\t\t\tif False, load testing data\n",
        "\n",
        "\tReturn:\tdata_return \tnumpy matrix \tsize = NO_valid_trial x 22 x 1750\n",
        "\t\t\tclass_return \tnumpy matrix \tsize = NO_valid_trial\n",
        "\t'''\n",
        "\tNO_channels = 22\n",
        "\tNO_tests = 6*48\n",
        "\tWindow_Length = 7*250\n",
        "\n",
        "\tclass_return = np.zeros(NO_tests)\n",
        "\tdata_return = np.zeros((NO_tests,NO_channels,Window_Length))\n",
        "\n",
        "\tNO_valid_trial = 0\n",
        "\tif training:\n",
        "\t\ta = sio.loadmat(PATH+'A0'+str(subject)+'T.mat')\n",
        "\telse:\n",
        "\t\ta = sio.loadmat(PATH+'A0'+str(subject)+'E.mat')\n",
        "\ta_data = a['data']\n",
        "\tfor ii in range(0,a_data.size):\n",
        "\t\ta_data1 = a_data[0,ii]\n",
        "\t\ta_data2=[a_data1[0,0]]\n",
        "\t\ta_data3=a_data2[0]\n",
        "\t\ta_X \t\t= a_data3[0]\n",
        "\t\ta_trial \t= a_data3[1]\n",
        "\t\ta_y \t\t= a_data3[2]\n",
        "\t\ta_fs \t\t= a_data3[3]\n",
        "\t\ta_classes \t= a_data3[4]\n",
        "\t\ta_artifacts = a_data3[5]\n",
        "\t\ta_gender \t= a_data3[6]\n",
        "\t\ta_age \t\t= a_data3[7]\n",
        "\t\tfor trial in range(0,a_trial.size):\n",
        "\t\t\tif(a_artifacts[trial]==0):\n",
        "\t\t\t\tdata_return[NO_valid_trial,:,:] = np.transpose(a_X[int(a_trial[trial]):(int(a_trial[trial])+Window_Length),:22])\n",
        "\t\t\t\tclass_return[NO_valid_trial] = int(a_y[trial])\n",
        "\t\t\t\tNO_valid_trial +=1\n",
        "\n",
        "\n",
        "\treturn data_return[0:NO_valid_trial,:,:], class_return[0:NO_valid_trial]"
      ]
    },
    {
      "cell_type": "markdown",
      "metadata": {
        "id": "mFjrUv_g9LbW"
      },
      "source": [
        "#main_csp.py"
      ]
    },
    {
      "cell_type": "code",
      "execution_count": 15,
      "metadata": {
        "id": "Yx_qJEOm9NHi"
      },
      "outputs": [],
      "source": [
        "class CSP_Model:\n",
        "\n",
        "\tdef __init__(self):\n",
        "\t\tself.crossvalidation = False\n",
        "\t\tself.data_path \t= 'dataset/'\n",
        "\t\tself.svm_kernel\t= 'linear' #'sigmoid'#'linear' # 'sigmoid', 'rbf', 'poly'\n",
        "\t\tself.svm_c \t= 0.1 # 0.05 for linear, 20 for rbf, poly: 0.1\n",
        "\t\tself.useCSP = True\n",
        "\t\tself.NO_splits = 5 # number of folds in cross validation\n",
        "\t\tself.fs = 250. # sampling frequency\n",
        "\t\tself.NO_channels = 22 # number of EEG channels\n",
        "\t\tself.NO_subjects = 9\n",
        "\t\tself.NO_csp = 24 # Total number of CSP feature per band and timewindow\n",
        "\t\tself.bw = np.array([2,4,8,16,32]) # bandwidth of filtered signals\n",
        "\t\t# self.bw = np.array([1,2,4,8,16,32])\n",
        "\t\tself.ftype = 'butter' # 'fir', 'butter'\n",
        "\t\tself.forder= 2 # 4\n",
        "\t\tself.filter_bank = load_filterbank(self.bw,self.fs,order=self.forder,max_freq=40,ftype = self.ftype) # get filterbank coeffs\n",
        "\t\ttime_windows_flt = np.array([\n",
        "\t\t \t\t\t\t\t\t[2.5,3.5],\n",
        "\t\t \t\t\t\t\t\t[3,4],\n",
        "\t\t \t\t\t\t\t\t[3.5,4.5],\n",
        "\t\t \t\t\t\t\t\t[4,5],\n",
        "\t\t \t\t\t\t\t\t[4.5,5.5],\n",
        "\t\t \t\t\t\t\t\t[5,6],\n",
        "\t\t \t\t\t\t\t\t[2.5,4.5],\n",
        "\t\t \t\t\t\t\t\t[3,5],\n",
        "\t\t \t\t\t\t\t\t[3.5,5.5],\n",
        "\t\t \t\t\t\t\t\t[4,6],\n",
        "\t\t \t\t\t\t\t\t[2.5,6]])*self.fs # time windows in [s] x fs for using as a feature\n",
        "\n",
        "\t\t# time_windows_flt = np.array([\n",
        "\t\t#\t\t\t\t\t\t[2.5,3.5],\n",
        "\t\t#\t\t\t\t\t\t[3,4],\n",
        "\t\t#\t\t\t\t\t\t[4,5],\n",
        "\t\t#\t\t\t\t\t\t[5,6],\n",
        "\t\t#\t\t\t\t\t\t[2.5,4.5],\n",
        "\t\t#\t\t\t\t\t\t[4,6],\n",
        "\t\t#\t\t\t\t\t\t[2.5,6]])*self.fs # time windows in [s] x fs for using as a feature\n",
        "\t\tself.time_windows = time_windows_flt.astype(int)\n",
        "\t\t# restrict time windows and frequency bands\n",
        "\t\t# self.time_windows = self.time_windows[10] # use only largest timewindow\n",
        "\t\t# self.filter_bank = self.filter_bank[18:27] # use only 4Hz bands\n",
        "\n",
        "\t\tself.NO_bands = self.filter_bank.shape[0]\n",
        "\t\tself.NO_time_windows = int(self.time_windows.size/2)\n",
        "\t\tself.NO_features = self.NO_csp*self.NO_bands*self.NO_time_windows\n",
        "\t\tself.train_time = 0\n",
        "\t\tself.train_trials = 0\n",
        "\t\tself.eval_time = 0\n",
        "\t\tself.eval_trials = 0\n",
        "\n",
        "\tdef run_csp(self):\n",
        "\n",
        "\t\t################################ Training ############################################################################\n",
        "\t\tstart_train = time.time()\n",
        "\t\t# 1. Apply CSP to bands to get spatial filter\n",
        "\t\tif self.useCSP:\n",
        "\t\t\tw = generate_projection(self.train_data,self.train_label, self.NO_csp,self.filter_bank,self.time_windows)\n",
        "\t\telse:\n",
        "\t\t\tw = generate_eye(self.train_data,self.train_label,self.filter_bank,self.time_windows)\n",
        "\n",
        "\n",
        "\t\t# 2. Extract features for training\n",
        "\t\tfeature_mat = extract_feature(self.train_data,w,self.filter_bank,self.time_windows)\n",
        "\n",
        "\t\t# 3. Stage Train SVM Model\n",
        "\t\t# 2. Train SVM Model\n",
        "\t\tif self.svm_kernel == 'linear' :\n",
        "\t\t\tclf = LinearSVC(C = self.svm_c, intercept_scaling=1, loss='hinge', max_iter=1000,multi_class='ovr', penalty='l2', random_state=1, tol=0.00001)\n",
        "\t\telse:\n",
        "\t\t\tclf = SVC(self.svm_c,self.svm_kernel, degree=10, gamma='auto', coef0=0.0, tol=0.001, cache_size=10000, max_iter=-1, decision_function_shape='ovr')\n",
        "\t\tclf.fit(feature_mat,self.train_label)\n",
        "\n",
        "\t\tend_train = time.time()\n",
        "\t\tself.train_time += end_train-start_train\n",
        "\t\tself.train_trials += len(self.train_label)\n",
        "\n",
        "\t\t################################# Evaluation ###################################################\n",
        "\t\tstart_eval = time.time()\n",
        "\t\teval_feature_mat = extract_feature(self.eval_data,w,self.filter_bank,self.time_windows)\n",
        "\n",
        "\t\tsuccess_rate = clf.score(eval_feature_mat,self.eval_label)\n",
        "\n",
        "\t\tend_eval = time.time()\n",
        "\n",
        "\t\t#print(\"Time for one Evaluation \" + str((end_eval-start_eval)/len(self.eval_label)) )\n",
        "\n",
        "\t\tself.eval_time += end_eval-start_eval\n",
        "\t\tself.eval_trials += len(self.eval_label)\n",
        "\n",
        "\n",
        "\t\treturn success_rate\n",
        "\n",
        "\n",
        "\n",
        "\n",
        "\n",
        "\tdef load_data(self):\n",
        "\t\t\tif self.crossvalidation:\n",
        "\t\t\t\tdata,label = get_data(self.subject,True,self.data_path)\n",
        "\t\t\t\tkf = KFold(n_splits=self.NO_splits)\n",
        "\t\t\t\tsplit = 0\n",
        "\t\t\t\tfor train_index, test_index in kf.split(data):\n",
        "\t\t\t\t\tif self.split == split:\n",
        "\t\t\t\t\t\tself.train_data = data[train_index]\n",
        "\t\t\t\t\t\tself.train_label = label[train_index]\n",
        "\t\t\t\t\t\tself.eval_data = data[test_index]\n",
        "\t\t\t\t\t\tself.eval_label = label[test_index]\n",
        "\t\t\t\t\tsplit += 1\n",
        "\t\t\telse:\n",
        "\t\t\t\tself.train_data,self.train_label = get_data(self.subject,True,self.data_path)\n",
        "\t\t\t\tself.eval_data,self.eval_label = get_data(self.subject,False,self.data_path)\n",
        "\n"
      ]
    },
    {
      "cell_type": "code",
      "execution_count": 16,
      "metadata": {
        "colab": {
          "base_uri": "https://localhost:8080/"
        },
        "id": "-oUIdrtX9Nv5",
        "outputId": "1c77ff74-e21b-486c-dc7f-784ec3b4c652"
      },
      "outputs": [
        {
          "name": "stdout",
          "output_type": "stream",
          "text": [
            "Number of used features: 11352\n",
            "Test data set\n"
          ]
        }
      ],
      "source": [
        "model = CSP_Model()\n",
        "print(\"Number of used features: \"+ str(model.NO_features))\n",
        "success_tot_sum = 0\n",
        "\n",
        "if model.crossvalidation:\n",
        "  print(\"Cross validation run\")\n",
        "else:\n",
        "  print(\"Test data set\")\n",
        "\n",
        "\n",
        "start = time.time()"
      ]
    },
    {
      "cell_type": "code",
      "execution_count": 17,
      "metadata": {
        "colab": {
          "base_uri": "https://localhost:8080/"
        },
        "id": "kM5lwf0o-1VG",
        "outputId": "b97bc8ba-5a55-4e62-aee4-1e778fb217a6"
      },
      "outputs": [
        {
          "name": "stderr",
          "output_type": "stream",
          "text": [
            "/Users/yohanabeysinghe/miniconda3/envs/torch/lib/python3.9/site-packages/sklearn/svm/_base.py:1244: ConvergenceWarning: Liblinear failed to converge, increase the number of iterations.\n",
            "  warnings.warn(\n"
          ]
        },
        {
          "name": "stdout",
          "output_type": "stream",
          "text": [
            "0.8683274021352313\n"
          ]
        },
        {
          "name": "stderr",
          "output_type": "stream",
          "text": [
            "/Users/yohanabeysinghe/miniconda3/envs/torch/lib/python3.9/site-packages/sklearn/svm/_base.py:1244: ConvergenceWarning: Liblinear failed to converge, increase the number of iterations.\n",
            "  warnings.warn(\n"
          ]
        },
        {
          "name": "stdout",
          "output_type": "stream",
          "text": [
            "0.5724381625441696\n"
          ]
        },
        {
          "name": "stderr",
          "output_type": "stream",
          "text": [
            "/Users/yohanabeysinghe/miniconda3/envs/torch/lib/python3.9/site-packages/sklearn/svm/_base.py:1244: ConvergenceWarning: Liblinear failed to converge, increase the number of iterations.\n",
            "  warnings.warn(\n"
          ]
        },
        {
          "name": "stdout",
          "output_type": "stream",
          "text": [
            "0.8644688644688645\n"
          ]
        },
        {
          "name": "stderr",
          "output_type": "stream",
          "text": [
            "/Users/yohanabeysinghe/miniconda3/envs/torch/lib/python3.9/site-packages/sklearn/svm/_base.py:1244: ConvergenceWarning: Liblinear failed to converge, increase the number of iterations.\n",
            "  warnings.warn(\n"
          ]
        },
        {
          "name": "stdout",
          "output_type": "stream",
          "text": [
            "0.6140350877192983\n"
          ]
        },
        {
          "name": "stderr",
          "output_type": "stream",
          "text": [
            "/Users/yohanabeysinghe/miniconda3/envs/torch/lib/python3.9/site-packages/sklearn/svm/_base.py:1244: ConvergenceWarning: Liblinear failed to converge, increase the number of iterations.\n",
            "  warnings.warn(\n"
          ]
        },
        {
          "name": "stdout",
          "output_type": "stream",
          "text": [
            "0.6086956521739131\n",
            "0.5069767441860465\n"
          ]
        },
        {
          "name": "stderr",
          "output_type": "stream",
          "text": [
            "/Users/yohanabeysinghe/miniconda3/envs/torch/lib/python3.9/site-packages/sklearn/svm/_base.py:1244: ConvergenceWarning: Liblinear failed to converge, increase the number of iterations.\n",
            "  warnings.warn(\n"
          ]
        },
        {
          "name": "stdout",
          "output_type": "stream",
          "text": [
            "0.924187725631769\n",
            "0.8782287822878229\n"
          ]
        },
        {
          "name": "stderr",
          "output_type": "stream",
          "text": [
            "/Users/yohanabeysinghe/miniconda3/envs/torch/lib/python3.9/site-packages/sklearn/svm/_base.py:1244: ConvergenceWarning: Liblinear failed to converge, increase the number of iterations.\n",
            "  warnings.warn(\n"
          ]
        },
        {
          "name": "stdout",
          "output_type": "stream",
          "text": [
            "0.7916666666666666\n"
          ]
        }
      ],
      "source": [
        "for model.subject in range(1,model.NO_subjects+1):\n",
        "\n",
        "  #print(\"Subject\" + str(model.subject)+\":\")\n",
        "\n",
        "\n",
        "  if model.crossvalidation:\n",
        "    success_sub_sum = 0\n",
        "\n",
        "    for model.split in range(model.NO_splits):\n",
        "      model.load_data()\n",
        "      success_sub_sum += model.run_csp()\n",
        "      print(success_sub_sum/(model.split+1))\n",
        "    # average over all splits\n",
        "    success_rate = success_sub_sum/model.NO_splits\n",
        "\n",
        "  else:\n",
        "    # load Eval data\n",
        "    model.load_data()\n",
        "    success_rate = model.run_csp()\n",
        "\n",
        "  print(success_rate)\n",
        "  success_tot_sum += success_rate"
      ]
    },
    {
      "cell_type": "code",
      "execution_count": 18,
      "metadata": {},
      "outputs": [
        {
          "name": "stdout",
          "output_type": "stream",
          "text": [
            "Average success rate: 0.7365583430904202\n",
            "Training average time: 77.23542994923062\n",
            "Evaluation average time: 42.18559980392456\n",
            "Time elapsed [s] 1086.2404699325562\n"
          ]
        }
      ],
      "source": [
        "print(\"Average success rate: \" + str(success_tot_sum/model.NO_subjects))\n",
        "\n",
        "print(\"Training average time: \" +  str(model.train_time/model.NO_subjects))\n",
        "print(\"Evaluation average time: \" +  str(model.eval_time/model.NO_subjects))\n",
        "\n",
        "end = time.time()\t\n",
        "\n",
        "print(\"Time elapsed [s] \" + str(end - start))"
      ]
    }
  ],
  "metadata": {
    "colab": {
      "provenance": []
    },
    "kernelspec": {
      "display_name": "Python 3.9 (pytorch)",
      "language": "python",
      "name": "pytorch"
    },
    "language_info": {
      "codemirror_mode": {
        "name": "ipython",
        "version": 3
      },
      "file_extension": ".py",
      "mimetype": "text/x-python",
      "name": "python",
      "nbconvert_exporter": "python",
      "pygments_lexer": "ipython3",
      "version": "3.9.15"
    }
  },
  "nbformat": 4,
  "nbformat_minor": 0
}
