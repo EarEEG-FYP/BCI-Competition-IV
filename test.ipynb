{
 "cells": [
  {
   "cell_type": "code",
   "execution_count": 11,
   "metadata": {},
   "outputs": [
    {
     "name": "stdout",
     "output_type": "stream",
     "text": [
      "Input Shape: (4, 10, 32)\n",
      "Output Shape: (4, 10, 32)\n",
      "Attention Weights Shape: (4, 4, 10, 10)\n"
     ]
    }
   ],
   "source": [
    "import tensorflow as tf\n",
    "\n",
    "# Define input dimensions\n",
    "batch_size = 4\n",
    "seq_length = 10\n",
    "embed_dim = 32\n",
    "num_heads = 4\n",
    "\n",
    "# Create a MultiHeadAttention layer\n",
    "mha_layer = tf.keras.layers.MultiHeadAttention(num_heads=num_heads, key_dim=embed_dim)\n",
    "\n",
    "# Generate some random input data\n",
    "inputs = tf.random.normal(shape=(batch_size, seq_length, embed_dim))\n",
    "query = tf.random.normal(shape=(batch_size, seq_length, embed_dim))\n",
    "value = tf.random.normal(shape=(batch_size, seq_length, embed_dim))\n",
    "\n",
    "# Call the MultiHeadAttention layer\n",
    "output, attn_weights = mha_layer(query, value, query, attention_mask=None, return_attention_scores=True)\n",
    "\n",
    "# Print shapes\n",
    "print(\"Input Shape:\", inputs.shape)\n",
    "print(\"Output Shape:\", output.shape)\n",
    "print(\"Attention Weights Shape:\", attn_weights.shape)\n"
   ]
  },
  {
   "cell_type": "code",
   "execution_count": 18,
   "metadata": {},
   "outputs": [
    {
     "name": "stdout",
     "output_type": "stream",
     "text": [
      "x Shape: (0, 10, 32)\n",
      "Output Shape: (0, 10, 32)\n"
     ]
    }
   ],
   "source": [
    "import tensorflow as tf\n",
    "\n",
    "# Define input dimensions\n",
    "batch_size = 0\n",
    "seq_length = 10\n",
    "embed_dim = 32\n",
    "num_heads = 4\n",
    "\n",
    "input = tf.random.normal(shape=(batch_size, seq_length, embed_dim))\n",
    "x = tf.keras.layers.MultiHeadAttention(key_dim = embed_dim, num_heads = num_heads)(input, input)\n",
    "\n",
    "# Print shapes\n",
    "print(\"x Shape:\", input.shape)\n",
    "print(\"Output Shape:\", x.shape)"
   ]
  }
 ],
 "metadata": {
  "kernelspec": {
   "display_name": "Python 3.10 (tensorflow)",
   "language": "python",
   "name": "tensorflow"
  },
  "language_info": {
   "codemirror_mode": {
    "name": "ipython",
    "version": 3
   },
   "file_extension": ".py",
   "mimetype": "text/x-python",
   "name": "python",
   "nbconvert_exporter": "python",
   "pygments_lexer": "ipython3",
   "version": "3.10.8"
  }
 },
 "nbformat": 4,
 "nbformat_minor": 2
}
