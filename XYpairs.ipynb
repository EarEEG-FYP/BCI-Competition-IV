{
 "cells": [
  {
   "cell_type": "code",
   "execution_count": 1,
   "metadata": {},
   "outputs": [],
   "source": [
    "import numpy as np\n",
    "import time\n",
    "from scipy import signal\n",
    "from scipy.signal import butter, sosfilt, sosfreqz\n",
    "from sklearn.model_selection import KFold\n",
    "import scipy.io as sio"
   ]
  },
  {
   "cell_type": "code",
   "execution_count": 2,
   "metadata": {},
   "outputs": [],
   "source": [
    "crossvalidation = False\n",
    "data_path \t= 'dataset/'\n",
    "svm_kernel\t= 'linear' #'sigmoid'#'linear' # 'sigmoid', 'rbf', 'poly'\n",
    "svm_c \t= 0.1 # 0.05 for linear, 20 for rbf, poly: 0.1\n",
    "\n",
    "\n",
    "useCSP = True\n",
    "\n",
    "\n",
    "NO_splits = 5 # number of folds in cross validation\n",
    "fs = 250. # sampling frequency\n",
    "NO_channels = 22 # number of EEG channels\n",
    "NO_subjects = 9\n",
    "\n",
    "\n",
    "NO_csp = 24 # Total number of CSP feature per band and timewindow\n",
    "\n",
    "\n",
    "bw = np.array([2,4,8,16,32]) # bandwidth of filtered signals\n",
    "# self.bw = np.array([1,2,4,8,16,32])\n",
    "ftype = 'butter' # 'fir', 'butter'\n",
    "forder= 2 # 4"
   ]
  },
  {
   "cell_type": "markdown",
   "metadata": {},
   "source": [
    "load_filterbank"
   ]
  },
  {
   "cell_type": "code",
   "execution_count": 3,
   "metadata": {},
   "outputs": [],
   "source": [
    "max_freq = 40\n",
    "order = 4\n",
    "\n",
    "f_bands = np.zeros((99,2)).astype(float)\n",
    "\n",
    "band_counter = 0\n",
    "for bw in bw:\n",
    "    startfreq = 4\n",
    "    while (startfreq + bw <= max_freq):\n",
    "        f_bands[band_counter] = [startfreq, startfreq + bw]\n",
    "\n",
    "        if bw ==1: # do 1Hz steps\n",
    "            startfreq = startfreq +1\n",
    "        elif bw == 2: # do 2Hz steps\n",
    "            startfreq = startfreq +2\n",
    "        else : # do 4 Hz steps if Bandwidths >= 4Hz\n",
    "            startfreq = startfreq +4\n",
    "\n",
    "        band_counter += 1\n",
    "\n",
    "# convert array to normalized frequency\n",
    "f_bands_nom = 2*f_bands[:band_counter]/fs"
   ]
  },
  {
   "cell_type": "code",
   "execution_count": 4,
   "metadata": {},
   "outputs": [],
   "source": [
    "n_bands = f_bands_nom.shape[0]\n",
    "\n",
    "if ftype == 'butter':\n",
    "    filter_bank = np.zeros((n_bands,order,6))\n",
    "elif ftype == 'fir':\n",
    "    filter_bank = np.zeros((n_bands,order))\n",
    "\n",
    "\n",
    "\n",
    "for band_idx in range(n_bands):\n",
    "    if ftype == 'butter':\n",
    "        filter_bank[band_idx] = butter(order, f_bands_nom[band_idx], analog=False, btype='band', output='sos')\n",
    "    elif ftype == 'fir':\n",
    "        filter_bank[band_idx] = signal.firwin(order,f_bands_nom[band_idx],pass_zero=False)"
   ]
  },
  {
   "cell_type": "code",
   "execution_count": 5,
   "metadata": {},
   "outputs": [],
   "source": [
    "time_windows_flt = np.array([\n",
    "                        [2.5,3.5],\n",
    "                        [3,4],\n",
    "                        [3.5,4.5],\n",
    "                        [4,5],\n",
    "                        [4.5,5.5],\n",
    "                        [5,6],\n",
    "                        [2.5,4.5],\n",
    "                        [3,5],\n",
    "                        [3.5,5.5],\n",
    "                        [4,6],\n",
    "                        [2.5,6]])*fs # time windows in [s] x fs for using as a feature\n",
    "\n",
    "time_windows = time_windows_flt.astype(int)\n",
    "\n",
    "NO_bands = filter_bank.shape[0]\n",
    "NO_time_windows = int(time_windows.size/2)\n",
    "NO_features = NO_csp*NO_bands*NO_time_windows\n",
    "train_time = 0\n",
    "train_trials = 0\n",
    "eval_time = 0\n",
    "eval_trials = 0"
   ]
  },
  {
   "cell_type": "code",
   "execution_count": 6,
   "metadata": {},
   "outputs": [
    {
     "name": "stdout",
     "output_type": "stream",
     "text": [
      "Number of used features: 11352\n",
      "Test data set\n"
     ]
    }
   ],
   "source": [
    "print(\"Number of used features: \"+ str(NO_features))\n",
    "success_tot_sum = 0\n",
    "\n",
    "\n",
    "if crossvalidation:\n",
    "  print(\"Cross validation run\")\n",
    "else:\n",
    "  print(\"Test data set\")\n",
    "\n",
    "start = time.time()"
   ]
  },
  {
   "cell_type": "markdown",
   "metadata": {},
   "source": [
    "CSP_Model ----> load_data"
   ]
  },
  {
   "cell_type": "code",
   "execution_count": 7,
   "metadata": {},
   "outputs": [],
   "source": [
    "def get_data(subject,training,PATH):\n",
    "\n",
    "\tNO_channels = 22\n",
    "\tNO_tests = 6*48\n",
    "\tWindow_Length = 7*250\n",
    "\n",
    "\tclass_return = np.zeros(NO_tests)\n",
    "\tdata_return = np.zeros((NO_tests,NO_channels,Window_Length))\n",
    "\n",
    "\tNO_valid_trial = 0\n",
    "\tif training:\n",
    "\t\ta = sio.loadmat(PATH+'A0'+str(subject)+'T.mat')\n",
    "\telse:\n",
    "\t\ta = sio.loadmat(PATH+'A0'+str(subject)+'E.mat')\n",
    "\ta_data = a['data']\n",
    "\tfor ii in range(0,a_data.size):\n",
    "\t\ta_data1 = a_data[0,ii]\n",
    "\t\ta_data2=[a_data1[0,0]]\n",
    "\t\ta_data3=a_data2[0]\n",
    "\t\ta_X \t\t= a_data3[0]\n",
    "\t\ta_trial \t= a_data3[1]\n",
    "\t\ta_y \t\t= a_data3[2]\n",
    "\t\ta_fs \t\t= a_data3[3]\n",
    "\t\ta_classes \t= a_data3[4]\n",
    "\t\ta_artifacts = a_data3[5]\n",
    "\t\ta_gender \t= a_data3[6]\n",
    "\t\ta_age \t\t= a_data3[7]\n",
    "\t\tfor trial in range(0,a_trial.size):\n",
    "\t\t\tif(a_artifacts[trial]==0):\n",
    "\t\t\t\tdata_return[NO_valid_trial,:,:] = np.transpose(a_X[int(a_trial[trial]):(int(a_trial[trial])+Window_Length),:22])\n",
    "\t\t\t\tclass_return[NO_valid_trial] = int(a_y[trial])\n",
    "\t\t\t\tNO_valid_trial +=1\n",
    "\n",
    "\n",
    "\treturn data_return[0:NO_valid_trial,:,:], class_return[0:NO_valid_trial]"
   ]
  },
  {
   "cell_type": "code",
   "execution_count": 8,
   "metadata": {},
   "outputs": [],
   "source": [
    "def load_data(subject):\n",
    "        if crossvalidation:\n",
    "            data,label = get_data(subject ,True, data_path)\n",
    "            kf = KFold(n_splits=NO_splits)\n",
    "            split = 0\n",
    "            for train_index, test_index in kf.split(data):\n",
    "                if split == split:\n",
    "                    train_data = data[train_index]\n",
    "                    train_label = label[train_index]\n",
    "                    eval_data = data[test_index]\n",
    "                    eval_label = label[test_index]\n",
    "                split += 1\n",
    "        else:\n",
    "            train_data, train_label = get_data(subject, True, data_path)\n",
    "            eval_data, eval_label = get_data(subject, False, data_path)\n",
    "            \n",
    "        return train_data, train_label, eval_data, eval_label\n"
   ]
  },
  {
   "cell_type": "code",
   "execution_count": 9,
   "metadata": {},
   "outputs": [],
   "source": [
    "for subject in range(1,2):\n",
    "    train_data, train_label, eval_data, eval_label = load_data(subject)"
   ]
  },
  {
   "cell_type": "code",
   "execution_count": 10,
   "metadata": {},
   "outputs": [
    {
     "data": {
      "text/plain": [
       "(273, 22, 1750)"
      ]
     },
     "execution_count": 10,
     "metadata": {},
     "output_type": "execute_result"
    }
   ],
   "source": [
    "train_data.shape"
   ]
  }
 ],
 "metadata": {
  "kernelspec": {
   "display_name": "Python 3.9 (pytorch)",
   "language": "python",
   "name": "pytorch"
  },
  "language_info": {
   "codemirror_mode": {
    "name": "ipython",
    "version": 3
   },
   "file_extension": ".py",
   "mimetype": "text/x-python",
   "name": "python",
   "nbconvert_exporter": "python",
   "pygments_lexer": "ipython3",
   "version": "3.9.15"
  }
 },
 "nbformat": 4,
 "nbformat_minor": 2
}
